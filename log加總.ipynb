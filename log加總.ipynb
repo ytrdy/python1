{
 "cells": [
  {
   "cell_type": "code",
   "execution_count": 2,
   "metadata": {},
   "outputs": [],
   "source": [
    "%matplotlib inline\n",
    "import numpy as np\n",
    "import math"
   ]
  },
  {
   "cell_type": "code",
   "execution_count": 3,
   "metadata": {},
   "outputs": [
    {
     "name": "stdout",
     "output_type": "stream",
     "text": [
      "輸入一個正整數:10\n",
      "6.559763032876794\n",
      "It cost 3.551251 sec\n",
      "3.551251173019409\n"
     ]
    }
   ],
   "source": [
    "import time\n",
    "tStart = time.time()\n",
    "time.sleep(2)\n",
    "num=int(input(\"輸入一個正整數:\"))\n",
    "ans=0\n",
    "for i in range(1,num+1):\n",
    "    ans=math.log(i,10)+ans\n",
    "print(ans)\n",
    "tEnd = time.time()\n",
    "a=tEnd-tStart\n",
    "print(\"It cost %f sec\"%a)\n",
    "print(a)"
   ]
  },
  {
   "cell_type": "code",
   "execution_count": null,
   "metadata": {},
   "outputs": [],
   "source": []
  }
 ],
 "metadata": {
  "kernelspec": {
   "display_name": "Python 3",
   "language": "python",
   "name": "python3"
  },
  "language_info": {
   "codemirror_mode": {
    "name": "ipython",
    "version": 3
   },
   "file_extension": ".py",
   "mimetype": "text/x-python",
   "name": "python",
   "nbconvert_exporter": "python",
   "pygments_lexer": "ipython3",
   "version": "3.7.3"
  }
 },
 "nbformat": 4,
 "nbformat_minor": 2
}
