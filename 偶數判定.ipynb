{
 "cells": [
  {
   "cell_type": "code",
   "execution_count": 1,
   "metadata": {},
   "outputs": [],
   "source": [
    "%matplotlib inline"
   ]
  },
  {
   "cell_type": "code",
   "execution_count": 13,
   "metadata": {},
   "outputs": [
    {
     "name": "stdout",
     "output_type": "stream",
     "text": [
      "請輸入:8\n",
      "Yes\n",
      "請輸入:5\n",
      "No\n",
      "請輸入:0\n",
      "Yes\n",
      "請輸入:q\n",
      "程式結束\n"
     ]
    }
   ],
   "source": [
    "num=\" \"\n",
    "while num!=\"q\":\n",
    "        num=input(\"請輸入:\")\n",
    "        if num!=\"q\":\n",
    "            if int(num)%2==0:\n",
    "                print(\"Yes\")\n",
    "            elif int(num)%2==1:\n",
    "                print(\"No\")\n",
    "        else:\n",
    "            print(\"程式結束\")\n",
    "            break"
   ]
  },
  {
   "cell_type": "code",
   "execution_count": null,
   "metadata": {},
   "outputs": [],
   "source": []
  }
 ],
 "metadata": {
  "kernelspec": {
   "display_name": "Python 3",
   "language": "python",
   "name": "python3"
  },
  "language_info": {
   "codemirror_mode": {
    "name": "ipython",
    "version": 3
   },
   "file_extension": ".py",
   "mimetype": "text/x-python",
   "name": "python",
   "nbconvert_exporter": "python",
   "pygments_lexer": "ipython3",
   "version": "3.7.3"
  }
 },
 "nbformat": 4,
 "nbformat_minor": 2
}
