{
 "cells": [
  {
   "cell_type": "code",
   "execution_count": 1,
   "metadata": {},
   "outputs": [],
   "source": [
    "%matplotlib inline"
   ]
  },
  {
   "cell_type": "code",
   "execution_count": 2,
   "metadata": {},
   "outputs": [],
   "source": [
    "blood={\"Alice\":\"B\"}"
   ]
  },
  {
   "cell_type": "code",
   "execution_count": 3,
   "metadata": {},
   "outputs": [
    {
     "name": "stdout",
     "output_type": "stream",
     "text": [
      "請輸入使用者名稱:Bob\n",
      "請輸入使用者血型:B\n",
      "是否繼續輸入:(Y/N)y\n",
      "請輸入使用者名稱:Clairee\n",
      "請輸入使用者血型:AB\n",
      "是否繼續輸入:(Y/N)n\n",
      "{'Alice': 'B', 'Bob': 'B', 'Clairee': 'AB'}\n"
     ]
    }
   ],
   "source": [
    "keep=\"y\"\n",
    "while keep!=0:    \n",
    "    if \"y\" in keep:        \n",
    "        name=input(\"請輸入使用者名稱:\")\n",
    "        b_type=input(\"請輸入使用者血型:\")\n",
    "        keep=input(\"是否繼續輸入:(Y/N)\")\n",
    "        blood[name]=b_type\n",
    "    elif \"Y\" in keep:\n",
    "        name=input(\"請輸入使用者名稱:\")\n",
    "        b_type=input(\"請輸入使用者血型:\")\n",
    "        keep=input(\"是否繼續輸入:(Y/N)\")\n",
    "        blood[name]=b_type\n",
    "    else:\n",
    "        print(blood)\n",
    "        break"
   ]
  },
  {
   "cell_type": "code",
   "execution_count": null,
   "metadata": {},
   "outputs": [],
   "source": []
  }
 ],
 "metadata": {
  "kernelspec": {
   "display_name": "Python 3",
   "language": "python",
   "name": "python3"
  },
  "language_info": {
   "codemirror_mode": {
    "name": "ipython",
    "version": 3
   },
   "file_extension": ".py",
   "mimetype": "text/x-python",
   "name": "python",
   "nbconvert_exporter": "python",
   "pygments_lexer": "ipython3",
   "version": "3.7.3"
  }
 },
 "nbformat": 4,
 "nbformat_minor": 2
}
