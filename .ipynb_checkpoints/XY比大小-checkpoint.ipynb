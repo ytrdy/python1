{
 "cells": [
  {
   "cell_type": "code",
   "execution_count": 1,
   "metadata": {},
   "outputs": [],
   "source": [
    "%matplotlib inline"
   ]
  },
  {
   "cell_type": "code",
   "execution_count": 9,
   "metadata": {},
   "outputs": [
    {
     "name": "stdout",
     "output_type": "stream",
     "text": [
      "請輸入X:5\n",
      "請輸入Y:8\n",
      "\"X<Y\"\n"
     ]
    }
   ],
   "source": [
    "X=int(input(\"請輸入X:\"))\n",
    "Y=int(input(\"請輸入Y:\"))\n",
    "if X==Y:\n",
    "    print(\"\\\"X=Y\\\"\")\n",
    "elif X>Y:\n",
    "    print(\"\\\"X>Y\\\"\")\n",
    "else:\n",
    "    print(\"\\\"X<Y\\\"\")"
   ]
  },
  {
   "cell_type": "code",
   "execution_count": null,
   "metadata": {},
   "outputs": [],
   "source": [
    "def compare(x,y):\n",
    "    X=int(x)\n",
    "    Y=int(y)\n",
    "    "
   ]
  },
  {
   "cell_type": "code",
   "execution_count": null,
   "metadata": {},
   "outputs": [],
   "source": []
  }
 ],
 "metadata": {
  "kernelspec": {
   "display_name": "Python 3",
   "language": "python",
   "name": "python3"
  },
  "language_info": {
   "codemirror_mode": {
    "name": "ipython",
    "version": 3
   },
   "file_extension": ".py",
   "mimetype": "text/x-python",
   "name": "python",
   "nbconvert_exporter": "python",
   "pygments_lexer": "ipython3",
   "version": "3.7.3"
  }
 },
 "nbformat": 4,
 "nbformat_minor": 2
}
