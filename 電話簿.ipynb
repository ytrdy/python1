{
 "cells": [
  {
   "cell_type": "code",
   "execution_count": 1,
   "metadata": {},
   "outputs": [],
   "source": [
    "%matplotlib inline"
   ]
  },
  {
   "cell_type": "code",
   "execution_count": 2,
   "metadata": {},
   "outputs": [],
   "source": [
    "tel_num={}"
   ]
  },
  {
   "cell_type": "code",
   "execution_count": 3,
   "metadata": {},
   "outputs": [
    {
     "name": "stdout",
     "output_type": "stream",
     "text": [
      "請選擇輸入或搜尋(add/search):add\n",
      "請輸入聯絡人名稱:小明\n",
      "請輸入聯絡者號碼:0912123123\n",
      "是否繼續輸入:(Y/N)Y\n",
      "請選擇輸入或搜尋(add/search):search\n",
      "請輸入聯絡人名稱:小明\n",
      "小明的電話號碼為0912123123\n",
      "是否繼續輸入:(Y/N)N\n"
     ]
    }
   ],
   "source": [
    "keep=\"Y\"\n",
    "while keep!=\"N\":\n",
    "    ham=input(\"請選擇輸入或搜尋(add/search):\")\n",
    "    if \"add\" in ham:\n",
    "        if \"Y\" in keep:        \n",
    "            name=input(\"請輸入聯絡人名稱:\")\n",
    "            num=input(\"請輸入聯絡者號碼:\")\n",
    "            keep=input(\"是否繼續輸入:(Y/N)\")\n",
    "            tel_num[name]=num\n",
    "        else:\n",
    "            break\n",
    "    elif \"search\" in ham:\n",
    "        s_name=input(\"請輸入聯絡人名稱:\")\n",
    "        s_num=tel_num[s_name]\n",
    "        print(\"{}的電話號碼為{}\".format(s_name,s_num))\n",
    "        keep=input(\"是否繼續輸入:(Y/N)\")"
   ]
  },
  {
   "cell_type": "code",
   "execution_count": null,
   "metadata": {},
   "outputs": [],
   "source": []
  },
  {
   "cell_type": "code",
   "execution_count": null,
   "metadata": {},
   "outputs": [],
   "source": []
  }
 ],
 "metadata": {
  "kernelspec": {
   "display_name": "Python 3",
   "language": "python",
   "name": "python3"
  },
  "language_info": {
   "codemirror_mode": {
    "name": "ipython",
    "version": 3
   },
   "file_extension": ".py",
   "mimetype": "text/x-python",
   "name": "python",
   "nbconvert_exporter": "python",
   "pygments_lexer": "ipython3",
   "version": "3.7.3"
  }
 },
 "nbformat": 4,
 "nbformat_minor": 2
}
