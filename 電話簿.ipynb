{
 "cells": [
  {
   "cell_type": "code",
   "execution_count": 1,
   "metadata": {},
   "outputs": [],
   "source": [
    "%matplotlib inline"
   ]
  },
  {
   "cell_type": "code",
   "execution_count": 7,
   "metadata": {},
   "outputs": [],
   "source": [
    "tel_num={}"
   ]
  },
  {
   "cell_type": "code",
   "execution_count": 8,
   "metadata": {},
   "outputs": [
    {
     "name": "stdout",
     "output_type": "stream",
     "text": [
      "請選擇輸入或搜尋(add/search):add\n",
      "請輸入聯絡人名稱:小名\n",
      "請輸入聯絡者號碼:0912345678\n",
      "是否繼續輸入:(Y/N)Y\n",
      "請選擇輸入或搜尋(add/search):search\n",
      "請輸入聯絡人名稱:小名\n"
     ]
    },
    {
     "ename": "ValueError",
     "evalue": "'=' alignment not allowed in string format specifier",
     "output_type": "error",
     "traceback": [
      "\u001b[1;31m---------------------------------------------------------------------------\u001b[0m",
      "\u001b[1;31mValueError\u001b[0m                                Traceback (most recent call last)",
      "\u001b[1;32m<ipython-input-8-5e062fa9df04>\u001b[0m in \u001b[0;36m<module>\u001b[1;34m\u001b[0m\n\u001b[0;32m     13\u001b[0m         \u001b[0ms_name\u001b[0m\u001b[1;33m=\u001b[0m\u001b[0minput\u001b[0m\u001b[1;33m(\u001b[0m\u001b[1;34m\"請輸入聯絡人名稱:\"\u001b[0m\u001b[1;33m)\u001b[0m\u001b[1;33m\u001b[0m\u001b[1;33m\u001b[0m\u001b[0m\n\u001b[0;32m     14\u001b[0m         \u001b[0ms_num\u001b[0m\u001b[1;33m=\u001b[0m\u001b[0mtel_num\u001b[0m\u001b[1;33m[\u001b[0m\u001b[0ms_name\u001b[0m\u001b[1;33m]\u001b[0m\u001b[1;33m\u001b[0m\u001b[1;33m\u001b[0m\u001b[0m\n\u001b[1;32m---> 15\u001b[1;33m         \u001b[0mprint\u001b[0m\u001b[1;33m(\u001b[0m\u001b[1;34m\"{}的電話號碼為{}\"\u001b[0m\u001b[1;33m,\u001b[0m\u001b[0mformat\u001b[0m\u001b[1;33m(\u001b[0m\u001b[0ms_name\u001b[0m\u001b[1;33m,\u001b[0m\u001b[0ms_num\u001b[0m\u001b[1;33m)\u001b[0m\u001b[1;33m)\u001b[0m\u001b[1;33m\u001b[0m\u001b[1;33m\u001b[0m\u001b[0m\n\u001b[0m\u001b[0;32m     16\u001b[0m         \u001b[0mkeep\u001b[0m\u001b[1;33m=\u001b[0m\u001b[0minput\u001b[0m\u001b[1;33m(\u001b[0m\u001b[1;34m\"是否繼續輸入:(Y/N)\"\u001b[0m\u001b[1;33m)\u001b[0m\u001b[1;33m\u001b[0m\u001b[1;33m\u001b[0m\u001b[0m\n",
      "\u001b[1;31mValueError\u001b[0m: '=' alignment not allowed in string format specifier"
     ]
    }
   ],
   "source": [
    "keep=\"Y\"\n",
    "while keep!=\"N\":\n",
    "    ham=input(\"請選擇輸入或搜尋(add/search):\")\n",
    "    if \"add\" in ham:\n",
    "        if \"Y\" in keep:        \n",
    "            name=input(\"請輸入聯絡人名稱:\")\n",
    "            num=input(\"請輸入聯絡者號碼:\")\n",
    "            keep=input(\"是否繼續輸入:(Y/N)\")\n",
    "            tel_num[name]=num\n",
    "        else:\n",
    "            break\n",
    "    elif \"search\" in ham:\n",
    "        s_name=input(\"請輸入聯絡人名稱:\")\n",
    "        s_num=tel_num[s_name]\n",
    "        print(\"{}的電話號碼為{}\"format(s_name,s_num))\n",
    "        keep=input(\"是否繼續輸入:(Y/N)\")"
   ]
  },
  {
   "cell_type": "code",
   "execution_count": null,
   "metadata": {},
   "outputs": [],
   "source": []
  }
 ],
 "metadata": {
  "kernelspec": {
   "display_name": "Python 3",
   "language": "python",
   "name": "python3"
  },
  "language_info": {
   "codemirror_mode": {
    "name": "ipython",
    "version": 3
   },
   "file_extension": ".py",
   "mimetype": "text/x-python",
   "name": "python",
   "nbconvert_exporter": "python",
   "pygments_lexer": "ipython3",
   "version": "3.7.3"
  }
 },
 "nbformat": 4,
 "nbformat_minor": 2
}
