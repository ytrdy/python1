{
 "cells": [
  {
   "cell_type": "code",
   "execution_count": 1,
   "metadata": {},
   "outputs": [],
   "source": [
    "%matplotlib inline"
   ]
  },
  {
   "cell_type": "code",
   "execution_count": 5,
   "metadata": {},
   "outputs": [
    {
     "name": "stdout",
     "output_type": "stream",
     "text": [
      "輸入里程數:456\n",
      "輸入加油金額:210\n",
      "輸入當日油價:26\n",
      "你的行車油耗為:56 km/L\n"
     ]
    }
   ],
   "source": [
    "distance=int(input(\"輸入里程數:\"))\n",
    "money=int(input(\"輸入加油金額:\"))\n",
    "price=int(input(\"輸入當日油價:\"))\n",
    "\n",
    "ans=distance/money*price\n",
    "\n",
    "print(\"你的行車油耗為:%d km/L\"%ans)"
   ]
  },
  {
   "cell_type": "code",
   "execution_count": null,
   "metadata": {},
   "outputs": [],
   "source": []
  }
 ],
 "metadata": {
  "kernelspec": {
   "display_name": "Python 3",
   "language": "python",
   "name": "python3"
  },
  "language_info": {
   "codemirror_mode": {
    "name": "ipython",
    "version": 3
   },
   "file_extension": ".py",
   "mimetype": "text/x-python",
   "name": "python",
   "nbconvert_exporter": "python",
   "pygments_lexer": "ipython3",
   "version": "3.7.3"
  }
 },
 "nbformat": 4,
 "nbformat_minor": 2
}
