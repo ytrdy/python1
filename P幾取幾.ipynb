{
 "cells": [
  {
   "cell_type": "code",
   "execution_count": 1,
   "metadata": {},
   "outputs": [],
   "source": [
    "%matplotlib inline"
   ]
  },
  {
   "cell_type": "code",
   "execution_count": 2,
   "metadata": {},
   "outputs": [
    {
     "name": "stdout",
     "output_type": "stream",
     "text": [
      "請輸入物品種類數:4\n",
      "請輸入欲取出幾種做排列:2\n",
      "共有12種排列方法\n"
     ]
    }
   ],
   "source": [
    "a=int(input(\"請輸入物品種類數:\"))\n",
    "b=int(input(\"請輸入欲取出幾種做排列:\"))\n",
    "\n",
    "i=b+1\n",
    "P=1\n",
    "\n",
    "while i<=a:\n",
    "    P=P*i\n",
    "    i=i+1\n",
    "print(\"共有%d種排列方法\"%P)\n",
    "    "
   ]
  },
  {
   "cell_type": "code",
   "execution_count": null,
   "metadata": {},
   "outputs": [],
   "source": []
  },
  {
   "cell_type": "code",
   "execution_count": null,
   "metadata": {},
   "outputs": [],
   "source": []
  }
 ],
 "metadata": {
  "kernelspec": {
   "display_name": "Python 3",
   "language": "python",
   "name": "python3"
  },
  "language_info": {
   "codemirror_mode": {
    "name": "ipython",
    "version": 3
   },
   "file_extension": ".py",
   "mimetype": "text/x-python",
   "name": "python",
   "nbconvert_exporter": "python",
   "pygments_lexer": "ipython3",
   "version": "3.7.3"
  }
 },
 "nbformat": 4,
 "nbformat_minor": 2
}
