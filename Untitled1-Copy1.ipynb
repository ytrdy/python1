{
 "cells": [
  {
   "cell_type": "code",
   "execution_count": 2,
   "metadata": {},
   "outputs": [],
   "source": [
    "%matplotlib inline\n",
    "import numpy as np\n",
    "import math\n",
    "import time\n",
    "import matplotlib.pyplot as plt"
   ]
  },
  {
   "cell_type": "code",
   "execution_count": 3,
   "metadata": {},
   "outputs": [],
   "source": [
    "def LogSum(n):\n",
    "    ans=0\n",
    "    for i in range(1,n+1):\n",
    "        ans=math.log(i,10)+ans\n",
    "    print(ans)"
   ]
  },
  {
   "cell_type": "code",
   "execution_count": 12,
   "metadata": {},
   "outputs": [
    {
     "name": "stdout",
     "output_type": "stream",
     "text": [
      "65657059.08005966\n",
      "It cost 5.173687 sec\n",
      "137334714.32481015\n",
      "It cost 12.788931 sec\n",
      "211284807.32214725\n",
      "It cost 15.409038 sec\n",
      "286710624.57710934\n",
      "It cost 20.336610 sec\n",
      "363233780.370178\n",
      "It cost 25.442238 sec\n",
      "440631410.396971\n",
      "It cost 30.351659 sec\n",
      "518756253.3894163\n",
      "It cost 37.204677 sec\n",
      "597503644.7577341\n",
      "It cost 41.103934 sec\n",
      "676795326.8544518\n",
      "It cost 47.156744 sec\n",
      "756570556.208734\n",
      "It cost 51.808122 sec\n"
     ]
    },
    {
     "data": {
      "image/png": "[encoded data removed]",
      "text/plain": [
       "<Figure size 432x288 with 1 Axes>"
      ]
     },
     "metadata": {
      "needs_background": "light"
     },
     "output_type": "display_data"
    }
   ],
   "source": [
    "for i in range(1,11):\n",
    "    n=10**7*i\n",
    "    tStart = time.time()\n",
    "    LogSum(n)\n",
    "    tEnd = time.time()\n",
    "    a=tEnd-tStart\n",
    "    print(\"It cost %f sec\"%a)\n",
    "    plt.scatter(n,a)"
   ]
  },
  {
   "cell_type": "code",
   "execution_count": null,
   "metadata": {},
   "outputs": [],
   "source": []
  }
 ],
 "metadata": {
  "kernelspec": {
   "display_name": "Python 3",
   "language": "python",
   "name": "python3"
  },
  "language_info": {
   "codemirror_mode": {
    "name": "ipython",
    "version": 3
   },
   "file_extension": ".py",
   "mimetype": "text/x-python",
   "name": "python",
   "nbconvert_exporter": "python",
   "pygments_lexer": "ipython3",
   "version": "3.7.3"
  }
 },
 "nbformat": 4,
 "nbformat_minor": 2
}
