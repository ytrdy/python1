{
 "cells": [
  {
   "cell_type": "code",
   "execution_count": 1,
   "metadata": {},
   "outputs": [],
   "source": [
    "%matplotlib inline\n",
    "\n",
    "import matplotlib.pyplot as plt\n",
    "import numpy as np\n",
    "import pandas as pd"
   ]
  },
  {
   "cell_type": "code",
   "execution_count": 3,
   "metadata": {},
   "outputs": [
    {
     "name": "stdout",
     "output_type": "stream",
     "text": [
      "請選擇輸入2或8或10或16進位的數字:2\n",
      "請輸入數字:1001001000\n",
      "8進位: 0o1110\n"
     ]
    }
   ],
   "source": [
    "type_in=input(\"請選擇輸入2或8或10或16進位制的數字:\")\n",
    "if type_in==\"2\":\n",
    "    num_in=bin(input(\"請輸入數字:\"))\n",
    "    print(\"8進位制:\",oct(num_in))\n",
    "    print(\"10進位制:\",int(num_in))\n",
    "    print(\"16進位制:\",hex(num_in))\n",
    "elif type_in==\"8\":\n",
    "    num_in=oct(input(\"請輸入數字:\"))\n",
    "    print(\"2進位制:\",bin(num_in))\n",
    "    print(\"10進位制:\",int(num_in))\n",
    "    print(\"16進位制:\",hex(num_in))\n",
    "elif type_in==\"10\":\n",
    "    num_in=int(input(\"請輸入數字:\"))\n",
    "    print(\"2進位制:\",bin(num_in))\n",
    "    print(\"8進位制:\",oct(num_in))\n",
    "    print(\"16進位制:\",hex(num_in))\n",
    "elif type_in==\"16\":\n",
    "    num_in=hex(input(\"請輸入數字:\"))\n",
    "    print(\"2進位制:\",bin(num_in))\n",
    "    print(\"8進位制:\",oct(num_in))\n",
    "    print(\"10進位制:\",int(num_in))\n",
    "else:\n",
    "    print(\"gj \")\n",
    "    "
   ]
  },
  {
   "cell_type": "code",
   "execution_count": null,
   "metadata": {},
   "outputs": [],
   "source": []
  }
 ],
 "metadata": {
  "kernelspec": {
   "display_name": "Python 3",
   "language": "python",
   "name": "python3"
  },
  "language_info": {
   "codemirror_mode": {
    "name": "ipython",
    "version": 3
   },
   "file_extension": ".py",
   "mimetype": "text/x-python",
   "name": "python",
   "nbconvert_exporter": "python",
   "pygments_lexer": "ipython3",
   "version": "3.7.3"
  }
 },
 "nbformat": 4,
 "nbformat_minor": 2
}
