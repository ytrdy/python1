{
 "cells": [
  {
   "cell_type": "code",
   "execution_count": 6,
   "metadata": {},
   "outputs": [
    {
     "name": "stdout",
     "output_type": "stream",
     "text": [
      "請輸入看板名稱:NBA\n",
      "\n",
      "[討論] 拓荒雙槍之後再一槍\n",
      "[公告] 板規v6.8\n",
      "[公告] 樂透取消及未來不再開啟樂透\n",
      "[公告] 版主上任相關事項\n",
      "[情報] SEASON Schedule 賽程 January 19–20\n"
     ]
    }
   ],
   "source": [
    "import requests\n",
    "from bs4 import BeautifulSoup\n",
    "article_href = []\n",
    "plate=input(\"請輸入看板名稱:\")\n",
    "print(\"\")\n",
    "r = requests.get(\"https://www.ptt.cc/bbs/\"+plate+\"/index.html\")\n",
    "soup = BeautifulSoup(r.text,\"html.parser\")\n",
    "results = soup.select(\"div.title\")\n",
    "\n",
    "for result in results:\n",
    "    print(result.text.strip())"
   ]
  },
  {
   "cell_type": "code",
   "execution_count": null,
   "metadata": {},
   "outputs": [],
   "source": []
  },
  {
   "cell_type": "code",
   "execution_count": null,
   "metadata": {},
   "outputs": [],
   "source": []
  }
 ],
 "metadata": {
  "kernelspec": {
   "display_name": "Python 3",
   "language": "python",
   "name": "python3"
  },
  "language_info": {
   "codemirror_mode": {
    "name": "ipython",
    "version": 3
   },
   "file_extension": ".py",
   "mimetype": "text/x-python",
   "name": "python",
   "nbconvert_exporter": "python",
   "pygments_lexer": "ipython3",
   "version": "3.7.3"
  }
 },
 "nbformat": 4,
 "nbformat_minor": 2
}
